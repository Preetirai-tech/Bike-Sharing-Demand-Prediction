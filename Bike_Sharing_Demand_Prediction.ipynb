{
  "nbformat": 4,
  "nbformat_minor": 0,
  "metadata": {
    "colab": {
      "private_outputs": true,
      "provenance": [],
      "collapsed_sections": [
        "89xtkJwZ18nB",
        "67NQN5KX2AMe",
        "Iwf50b-R2tYG",
        "GMQiZwjn3iu7",
        "WVIkgGqN3qsr",
        "XkPnILGE3zoT",
        "Hlsf0x5436Go",
        "mT9DMSJo4nBL",
        "c49ITxTc407N",
        "OeJFEK0N496M",
        "9ExmJH0g5HBk",
        "cJNqERVU536h",
        "k5UmGsbsOxih",
        "T0VqWOYE6DLQ",
        "qBMux9mC6MCf",
        "TNVZ9zx19K6k",
        "nqoHp30x9hH9",
        "rMDnDkt2B6du",
        "yiiVWRdJDDil",
        "1UUpS68QDMuG",
        "kexQrXU-DjzY",
        "T5CmagL3EC8N",
        "BhH2vgX9EjGr",
        "qjKvONjwE8ra",
        "P1XJ9OREExlT",
        "VFOzZv6IFROw",
        "TIqpNgepFxVj",
        "JWYfwnehpsJ1",
        "-jK_YjpMpsJ2",
        "HAih1iBOpsJ2",
        "zVGeBEFhpsJ2",
        "bmKjuQ-FpsJ3",
        "Fze-IPXLpx6K",
        "7AN1z2sKpx6M",
        "9PIHJqyupx6M",
        "_-qAgymDpx6N",
        "Z-hykwinpx6N",
        "h_CCil-SKHpo",
        "cBFFvTBNJzUa",
        "HvGl1hHyA_VK",
        "KH5McJBi2d8v",
        "iW_Lq9qf2h6X",
        "-Kee-DAl2viO",
        "gCX9965dhzqZ",
        "gIfDvo9L0UH2"
      ],
      "include_colab_link": true
    },
    "kernelspec": {
      "name": "python3",
      "display_name": "Python 3"
    },
    "language_info": {
      "name": "python"
    }
  },
  "cells": [
    {
      "cell_type": "markdown",
      "metadata": {
        "id": "view-in-github",
        "colab_type": "text"
      },
      "source": [
        "<a href=\"https://colab.research.google.com/github/Preetirai-tech/Bike-Sharing-Demand-Prediction/blob/main/Bike_Sharing_Demand_Prediction.ipynb\" target=\"_parent\"><img src=\"https://colab.research.google.com/assets/colab-badge.svg\" alt=\"Open In Colab\"/></a>"
      ]
    },
    {
      "cell_type": "markdown",
      "source": [
        "# **Project Name**    - **Bike Sharing Demand Prediction**\n",
        "\n"
      ],
      "metadata": {
        "id": "vncDsAP0Gaoa"
      }
    },
    {
      "cell_type": "markdown",
      "source": [
        "## **Project Type** - **Regression**\n",
        "## **Contribution**  -  **Individual (Preeti Rai)** \n",
        "<br>\n",
        "\n",
        "![Screenshot (32)](https://user-images.githubusercontent.com/102009481/177841865-7d86b86b-2849-4240-92c5-26ee85b8715b.png)\n"
      ],
      "metadata": {
        "id": "beRrZCGUAJYm"
      }
    },
    {
      "cell_type": "markdown",
      "source": [
        "# **Project Summary -**"
      ],
      "metadata": {
        "id": "FJNUwmbgGyua"
      }
    },
    {
      "cell_type": "markdown",
      "source": [
        "Write the summary here within 500-600 words."
      ],
      "metadata": {
        "id": "F6v_1wHtG2nS"
      }
    },
    {
      "cell_type": "markdown",
      "source": [
        "# **GitHub Link -**"
      ],
      "metadata": {
        "id": "w6K7xa23Elo4"
      }
    },
    {
      "cell_type": "markdown",
      "source": [
        "https://github.com/Preetirai-tech/Bike-Sharing-Demand-Prediction"
      ],
      "metadata": {
        "id": "h1o69JH3Eqqn"
      }
    },
    {
      "cell_type": "markdown",
      "source": [
        "#**Index**\n",
        "\n",
        "1. Problem Statement\n",
        "2. Know Your Data\n",
        "3. Understanding Your Variables\n",
        "4. EDA\n",
        "5. Data Cleaning\n",
        "6. Feature Engineering\n",
        "7. Model Building\n",
        "8. Model Implementaion.\n",
        "9. Conclusion"
      ],
      "metadata": {
        "id": "GbCUWV3mBdV3"
      }
    },
    {
      "cell_type": "code",
      "source": [],
      "metadata": {
        "id": "DVXpM2vHBWPe"
      },
      "execution_count": null,
      "outputs": []
    },
    {
      "cell_type": "markdown",
      "source": [
        "# **Let's Begin !**"
      ],
      "metadata": {
        "id": "O_i_v8NEhb9l"
      }
    },
    {
      "cell_type": "markdown",
      "source": [
        "# **1. Problem Statement**\n"
      ],
      "metadata": {
        "id": "yQaldy8SH6Dl"
      }
    },
    {
      "cell_type": "markdown",
      "source": [
        "**The \"Bike Sharing Demand Prediction\" project addresses the challenge faced by bike sharing companies in accurately forecasting and meeting the fluctuating demand for bike rentals. The unpredictable nature of bike rental demand poses difficulties in managing fleet size, allocating resources, and providing optimal customer service. Without a reliable demand prediction system, bike sharing companies often struggle to ensure a sufficient number of bikes are available during peak periods, resulting in frustrated customers and missed revenue opportunities. Conversely, overestimating demand leads to surplus bikes and unnecessary operational costs. Therefore, the problem at hand is to develop a robust machine learning model that can accurately forecast bike rental demand, enabling companies to optimize fleet management, allocate resources efficiently, and deliver an exceptional user experience while maximizing profitability.**"
      ],
      "metadata": {
        "id": "DpeJGUA3kjGy"
      }
    },
    {
      "cell_type": "markdown",
      "source": [
        "# **2. Know Your Data**"
      ],
      "metadata": {
        "id": "HhfV-JJviCcP"
      }
    },
    {
      "cell_type": "markdown",
      "source": [
        "### Import Libraries"
      ],
      "metadata": {
        "id": "Y3lxredqlCYt"
      }
    },
    {
      "cell_type": "code",
      "source": [
        "# Import Libraries\n",
        "\n",
        "# data visualisation and manipulation\n",
        "import pandas as pd\n",
        "import numpy as np\n",
        "import matplotlib.pyplot as plt\n",
        "%matplotlib inline\n",
        "import seaborn as sns\n",
        "import missingno as msno\n",
        "\n",
        "pd.set_option('display.max_columns', 500)\n",
        "\n",
        "plt.style.use('ggplot')\n",
        "\n",
        "\n",
        "\n",
        "\n",
        "\n",
        "import warnings\n",
        "warnings.filterwarnings('ignore')"
      ],
      "metadata": {
        "id": "M8Vqi-pPk-HR"
      },
      "execution_count": null,
      "outputs": []
    },
    {
      "cell_type": "markdown",
      "source": [
        "### Dataset Loading"
      ],
      "metadata": {
        "id": "3RnN4peoiCZX"
      }
    },
    {
      "cell_type": "code",
      "source": [
        "from google.colab import drive\n",
        "drive.mount('/content/drive')"
      ],
      "metadata": {
        "id": "zVvt-sgnQuxO"
      },
      "execution_count": null,
      "outputs": []
    },
    {
      "cell_type": "code",
      "source": [
        "# Load Seoul Bike Dataset\n",
        "bike_sharing_df = pd.read_csv(\"/content/drive/MyDrive/AlmaBetter/Capstone Project/Supervised: Regression/SeoulBikeData.csv\", \n",
        "                              encoding ='latin')"
      ],
      "metadata": {
        "id": "ZmTNL8L-Rfnr"
      },
      "execution_count": null,
      "outputs": []
    },
    {
      "cell_type": "markdown",
      "source": [
        "### Dataset First View"
      ],
      "metadata": {
        "id": "x71ZqKXriCWQ"
      }
    },
    {
      "cell_type": "code",
      "source": [
        "# Display the first 5 rows\n",
        "bike_sharing_df.head()"
      ],
      "metadata": {
        "id": "LWNFOSvLl09H"
      },
      "execution_count": null,
      "outputs": []
    },
    {
      "cell_type": "code",
      "source": [
        "# Display the last 5 rows\n",
        "bike_sharing_df.tail()"
      ],
      "metadata": {
        "id": "TbmZrGFQKI-m"
      },
      "execution_count": null,
      "outputs": []
    },
    {
      "cell_type": "code",
      "source": [
        "# Check ramdom sample\n",
        "bike_sharing_df.sample(5)"
      ],
      "metadata": {
        "id": "rrNAMU4NamsN"
      },
      "execution_count": null,
      "outputs": []
    },
    {
      "cell_type": "markdown",
      "source": [
        "### Dataset Rows & Columns count"
      ],
      "metadata": {
        "id": "7hBIi_osiCS2"
      }
    },
    {
      "cell_type": "code",
      "source": [
        "# Dimensions of the dataset\n",
        "bike_sharing_df.shape"
      ],
      "metadata": {
        "id": "Kllu7SJgmLij"
      },
      "execution_count": null,
      "outputs": []
    },
    {
      "cell_type": "markdown",
      "source": [
        "There are 8760 rows and 14 columns in this dataset."
      ],
      "metadata": {
        "id": "B5rNNJwULAwI"
      }
    },
    {
      "cell_type": "code",
      "source": [
        "# Number of columns in the data\n",
        "bike_sharing_df.columns"
      ],
      "metadata": {
        "id": "CLTMBSeCLSwo"
      },
      "execution_count": null,
      "outputs": []
    },
    {
      "cell_type": "markdown",
      "source": [
        "### Dataset Information"
      ],
      "metadata": {
        "id": "JlHwYmJAmNHm"
      }
    },
    {
      "cell_type": "code",
      "source": [
        "# Get information about the dataset\n",
        "bike_sharing_df.info()"
      ],
      "metadata": {
        "id": "e9hRXRi6meOf"
      },
      "execution_count": null,
      "outputs": []
    },
    {
      "cell_type": "markdown",
      "source": [
        "**Observation:**\n",
        "\n",
        "- **Float64 datatype:** 6 columns ie ``Temperature(°C)``,  ``Wind speed (m/s``, ``Dew point temperature(°C)``, ``Solar Radiation(MJ/m2)``, ``Rainfall(mm)``, ``Snowfall(cm)`` & ``Seasons``. \n",
        "- **Int64 datatype:** 4 columns ie ``Rented Bike``, ``Count, Hour``, ``Humidity(%)`` & ``Visibility(10m)``.\n",
        "- **Object datatype:** 4 columns ie ``Date``, ``Seasons``, ``Holidays`` & ``Functioming Day``.**              \n",
        "\n",
        "\n",
        "\n",
        "\n",
        "\n",
        "\n"
      ],
      "metadata": {
        "id": "DqeIm3N55bFm"
      }
    },
    {
      "cell_type": "code",
      "source": [
        "# Number of unique values in each columns\n",
        "bike_sharing_df.nunique()"
      ],
      "metadata": {
        "id": "oy95AQymUu-X"
      },
      "execution_count": null,
      "outputs": []
    },
    {
      "cell_type": "markdown",
      "source": [
        "**From the above result, it is observed that this datasets contains bike rental data of 1 year (since there are 365 unique values in a Date column)**"
      ],
      "metadata": {
        "id": "prSjyx9lX59T"
      }
    },
    {
      "cell_type": "markdown",
      "source": [
        "#### Duplicate Values"
      ],
      "metadata": {
        "id": "35m5QtbWiB9F"
      }
    },
    {
      "cell_type": "code",
      "source": [
        "# Dataset Duplicate Value Count\n",
        "print('The number of duplicated values in each column:' , bike_sharing_df.duplicated().sum())"
      ],
      "metadata": {
        "id": "1sLdpKYkmox0"
      },
      "execution_count": null,
      "outputs": []
    },
    {
      "cell_type": "markdown",
      "source": [
        "#### Missing Values/Null Values"
      ],
      "metadata": {
        "id": "PoPl-ycgm1ru"
      }
    },
    {
      "cell_type": "code",
      "source": [
        "# Check for missing values\n",
        "\n",
        "bike_sharing_df.isnull().sum()"
      ],
      "metadata": {
        "id": "GgHWkxvamxVg"
      },
      "execution_count": null,
      "outputs": []
    },
    {
      "cell_type": "code",
      "source": [
        "# Visualizing the missing values\n",
        "msno.matrix(bike_sharing_df)"
      ],
      "metadata": {
        "id": "3q5wnI3om9sJ"
      },
      "execution_count": null,
      "outputs": []
    },
    {
      "cell_type": "markdown",
      "source": [
        "**From the above results, it is evident that there are no missing values in the dataset .**"
      ],
      "metadata": {
        "id": "3LA0EmxWeqAx"
      }
    },
    {
      "cell_type": "markdown",
      "source": [
        "### What did you know about your dataset?"
      ],
      "metadata": {
        "id": "H0kj-8xxnORC"
      }
    },
    {
      "cell_type": "markdown",
      "source": [
        "- **The dataset contains 8760 rows and 14 columns.**\n",
        "- **There are 6 columns of datatype float64, 4 columns of datatype int64 and 4 columns of datatype object.**\n",
        "- **There are no missing and duplicate values in the dataset.**\n",
        "- **The dataset contains bike rental data of 1 year.**\n",
        "- **Input features: ``Date``, ``Hour``, ``Temperature(°C)``, ``Humidity(%)``, ``Wind speed (m/s)``,``Visibility (10m)``, ``Dew point temperature(°C)``, ``Solar Radiation (MJ/m2)``, ``Rainfall(mm)``, ``Snowfall (cm)``, ``Season``, ``Holiday`` & ``Functioning Day``**\n",
        "- **Target feature: ``Rented Bike Count``** "
      ],
      "metadata": {
        "id": "gfoNAAC-nUe_"
      }
    },
    {
      "cell_type": "markdown",
      "source": [
        "# **3. Understanding Your Variables**"
      ],
      "metadata": {
        "id": "nA9Y7ga8ng1Z"
      }
    },
    {
      "cell_type": "code",
      "source": [
        "# Dataset Columns\n",
        "bike_sharing_df.columns.tolist()"
      ],
      "metadata": {
        "id": "j7xfkqrt5Ag5"
      },
      "execution_count": null,
      "outputs": []
    },
    {
      "cell_type": "code",
      "source": [
        "# Statistical summary of the dataset\n",
        "bike_sharing_df.describe().T"
      ],
      "metadata": {
        "id": "DnOaZdaE5Q5t"
      },
      "execution_count": null,
      "outputs": []
    },
    {
      "cell_type": "markdown",
      "source": [
        "**Observations:**\n",
        "- ``Rainfall``: Most of the datapoints recorded were of 0 cm ie no rainfall. Only 25% records was above 0.\n",
        "- ``Snowfall``: Most of the datapoints were recorded were of 0 ie No Snowfall. Only 25% was above 0."
      ],
      "metadata": {
        "id": "AwG5TGBgiSI7"
      }
    },
    {
      "cell_type": "code",
      "source": [
        "bike_sharing_df['Seasons'].value_counts()"
      ],
      "metadata": {
        "id": "H9UGxuDnx5-z"
      },
      "execution_count": null,
      "outputs": []
    },
    {
      "cell_type": "code",
      "source": [
        "bike_sharing_df['Functioning Day'].value_counts()"
      ],
      "metadata": {
        "id": "0OZ9G9YTyj84"
      },
      "execution_count": null,
      "outputs": []
    },
    {
      "cell_type": "code",
      "source": [
        "bike_sharing_df['Holiday'].value_counts()"
      ],
      "metadata": {
        "id": "zgt132dOy-hi"
      },
      "execution_count": null,
      "outputs": []
    },
    {
      "cell_type": "markdown",
      "source": [
        "### Variables Description "
      ],
      "metadata": {
        "id": "PBTbrJXOngz2"
      }
    },
    {
      "cell_type": "markdown",
      "source": [
        "The dataset contains weather information (Temperature, Humidity, Windspeed, Visibility, Dewpoint, Solar radiation, Snowfall, Rainfall), the number of bikes rented per hour and date information.\n",
        "\n",
        "**Attribute Information:**\n",
        "- **Date:** The specific calendar date for the bike rental record. <br>\n",
        "- **Rented Bike Count:** The number of bikes rented during a specific time interval.\n",
        "- **Temperature:** The temperature in Celsius at the time of the bike rental.\n",
        "- **Humidity:** The relative humidity percentage at the time of the bike rental.\n",
        "- **Wind Speed:** The speed of the wind in meters per second at the time of the bike rental.\n",
        "- **Visibility:** The visibility in meters at the time of the bike rental.\n",
        "- **Dew Point Temperature:** The temperature at which air becomes saturated and dew forms at the time of the bike rental.\n",
        "- **Solar Radiation:** The amount of solar radiation in mega-joules per square meter at the time of the bike rental.\n",
        "- **Rainfall:** The amount of rainfall in millimeters at the time of the bike rental.\n",
        "- **Snowfall:** The amount of snowfall in centimeters at the time of the bike rental.\n",
        "- **Seasons:** The four seasons (Spring, Summer, Autumn, Winter) corresponding to the bike rental record.\n",
        "\n",
        "- **Holiday:** A categorical variable indicating whether the day of the bike rental record is a holiday or not. It has two possible values: \"Holiday\" and \"No Holiday\". The \"Holiday\" value represents a day that is recognized as a holiday, while the \"No Holiday\" value represents a regular day that is not a designated holiday.\n",
        "\n",
        "- **Functioning Day:** A categorical variable indicating whether the bike rental service was functioning on the day of the record. It has two possible values: \"Yes\" and \"No\". The \"Yes\" value indicates that the bike rental service was operational and functioning normally on that day. Conversely, the \"No\" value indicates that the bike rental service was not operating, potentially due to maintenance, strikes, or other reasons."
      ],
      "metadata": {
        "id": "aJV4KIxSnxay"
      }
    },
    {
      "cell_type": "markdown",
      "source": [
        "### Check Unique Values for each variable."
      ],
      "metadata": {
        "id": "u3PMJOP6ngxN"
      }
    },
    {
      "cell_type": "code",
      "source": [
        "# Check Unique Values for each variable\n",
        "for i in bike_sharing_df.columns.to_list():\n",
        "  print('Number of unique values in', i, 'is', bike_sharing_df[i].nunique())"
      ],
      "metadata": {
        "id": "zms12Yq5n-jE"
      },
      "execution_count": null,
      "outputs": []
    },
    {
      "cell_type": "code",
      "source": [
        "# Converting Date column of datatype Object to Datetime datatype\n",
        "bike_sharing_df['Date'] = pd.to_datetime(bike_sharing_df['Date'], dayfirst = True)"
      ],
      "metadata": {
        "id": "O8DOG67sj7QF"
      },
      "execution_count": null,
      "outputs": []
    },
    {
      "cell_type": "code",
      "source": [
        "# Extracting day name feature\n",
        "bike_sharing_df['Day'] = bike_sharing_df['Date'].dt.day_name()\n",
        "\n",
        "# Extracting month name feature\n",
        "bike_sharing_df['Month'] = bike_sharing_df['Date'].dt.month_name()\n",
        "\n",
        "# Extracting year feature\n",
        "bike_sharing_df['Year'] = bike_sharing_df['Date'].dt.year\n",
        "\n"
      ],
      "metadata": {
        "id": "bMqeligPj7Mr"
      },
      "execution_count": null,
      "outputs": []
    },
    {
      "cell_type": "code",
      "source": [
        "# Dropping Date column\n",
        "bike_sharing_df.drop(columns = ['Date'], inplace = True)"
      ],
      "metadata": {
        "id": "kzLQf1vNGG8r"
      },
      "execution_count": null,
      "outputs": []
    },
    {
      "cell_type": "code",
      "source": [
        "#Rename the complex columns name\n",
        "bike_sharing_df = bike_sharing_df.rename(columns={\n",
        "                                'Temperature(°C)':'Temperature',\n",
        "                                'Humidity(%)':'Humidity',\n",
        "                                'Wind speed (m/s)':'Wind Speed',\n",
        "                                'Visibility (10m)':'Visibility',\n",
        "                                'Dew point temperature(°C)':'Dew point temperature',\n",
        "                                'Solar Radiation (MJ/m2)':'Solar Radiation',\n",
        "                                'Rainfall(mm)':'Rainfall',\n",
        "                                'Snowfall (cm)':'Snowfall',\n",
        "                              })\n",
        "     "
      ],
      "metadata": {
        "id": "Sk50DpOnFORs"
      },
      "execution_count": null,
      "outputs": []
    },
    {
      "cell_type": "code",
      "source": [
        "bike_sharing_df.sample(3)"
      ],
      "metadata": {
        "id": "dVSBeZIErgQ8"
      },
      "execution_count": null,
      "outputs": []
    },
    {
      "cell_type": "code",
      "source": [
        "# convert Hour and Year columns from integer to object\n",
        "bike_sharing_df['Hour'] = bike_sharing_df['Hour'].astype('object')\n",
        "bike_sharing_df['Year'] = bike_sharing_df['Year'].astype('object')"
      ],
      "metadata": {
        "id": "CVhmxFQjJwNz"
      },
      "execution_count": null,
      "outputs": []
    },
    {
      "cell_type": "markdown",
      "source": [
        "# 4. **Exploratory Data Analysis**"
      ],
      "metadata": {
        "id": "dauF4eBmngu3"
      }
    },
    {
      "cell_type": "markdown",
      "source": [
        "**What is EDA?**\n",
        "\n",
        "- EDA stands for Exploratory Data Analysis. It is a crucial step in the data analysis process that involves exploring and understanding the characteristics, patterns, and relationships within a dataset. EDA aims to uncover insights, identify patterns, detect outliers, and gain a deeper understanding of the data before conducting further analysis or modeling."
      ],
      "metadata": {
        "id": "bKJF3rekwFvQ"
      }
    },
    {
      "cell_type": "markdown",
      "source": [
        "##**4.1 Numeric and Categorical Features**"
      ],
      "metadata": {
        "id": "Y_NBT2gxSGxn"
      }
    },
    {
      "cell_type": "code",
      "source": [
        "# Dividing data into numerical and categorical features\n",
        "\n",
        "categorical_features = bike_sharing_df.select_dtypes(include = 'object')\n",
        "numerical_features = bike_sharing_df.select_dtypes(exclude = 'object')\n"
      ],
      "metadata": {
        "id": "oUzZPHltS123"
      },
      "execution_count": null,
      "outputs": []
    },
    {
      "cell_type": "code",
      "source": [
        "categorical_features.head(2)"
      ],
      "metadata": {
        "id": "A5himtO5SFx5"
      },
      "execution_count": null,
      "outputs": []
    },
    {
      "cell_type": "code",
      "source": [
        "numerical_features.head(2)"
      ],
      "metadata": {
        "id": "CUDL8WbVSFvD"
      },
      "execution_count": null,
      "outputs": []
    },
    {
      "cell_type": "markdown",
      "source": [
        "## **4.2 Univariate Analysis**"
      ],
      "metadata": {
        "id": "9VEsMM3aVUvz"
      }
    },
    {
      "cell_type": "markdown",
      "source": [
        "### **4.2.1 Data Distribution of Numeric features**"
      ],
      "metadata": {
        "id": "9P9A3L3lVkFH"
      }
    },
    {
      "cell_type": "code",
      "source": [
        "# figsize\n",
        "plt.figure(figsize=(15,10))\n",
        "\n",
        "# title\n",
        "plt.suptitle('Data Distribution of Numeric Features', fontsize = 20, fontweight = 'bold', y=1.02)\n",
        "\n",
        "for i, col in enumerate(numerical_features):\n",
        "  # subplots 3 rows and 3 columns\n",
        "  plt.subplot(3, 3, i+1 )\n",
        "\n",
        "  # dist plot\n",
        "  sns.distplot(bike_sharing_df[col])\n",
        "  plt.axvline(bike_sharing_df[col].mean(), color='magenta', linestyle='dashed', linewidth=2)\n",
        "  plt.axvline(bike_sharing_df[col].median(), color='cyan', linestyle='dashed', linewidth=2)\n",
        "\n",
        "  plt.title(col)\n",
        "  plt.tight_layout()\n",
        "\n"
      ],
      "metadata": {
        "id": "ZAAm5C3ASFsJ"
      },
      "execution_count": null,
      "outputs": []
    },
    {
      "cell_type": "markdown",
      "source": [
        "**Observations:**\n",
        "- For numerical features, we can see that the majority of distributions are right-skewed and few are left-skewed.\n",
        "- **Right-skewed columns:** ``Rented Bike Count``, ``Wind speed``, ``Solar Radiation``, ``Rainfall`` & ``Snowfall``.\n",
        "- **Left-skewed columns:** ``Visibility`` & ``Dew point temperature`` "
      ],
      "metadata": {
        "id": "i6O_taqWgxuH"
      }
    },
    {
      "cell_type": "markdown",
      "source": [
        "### **4.2.2 Outlier Analysis of Numeric features**"
      ],
      "metadata": {
        "id": "OGcT-QQyseeK"
      }
    },
    {
      "cell_type": "code",
      "source": [
        "# figsize\n",
        "plt.figure(figsize = (15,10))\n",
        "\n",
        "# title\n",
        "plt.suptitle('Outlier Analysis of Numeric features', fontsize = 20, fontweight='bold', y=1.02)\n",
        "\n",
        "for i, col in enumerate(numerical_features):\n",
        "  # subplots 3 rows, 3 columns\n",
        "  plt.subplot(3,3, i+1)\n",
        "\n",
        "  # boxplots\n",
        "  sns.boxplot(numerical_features[col])\n",
        "  \n",
        "  plt.title(col)\n",
        "  plt.tight_layout()"
      ],
      "metadata": {
        "id": "bBcruxdPSFmJ"
      },
      "execution_count": null,
      "outputs": []
    },
    {
      "cell_type": "markdown",
      "source": [
        "**Observations:**\n",
        "- Outliers are visible in most of the numerical columns.\n",
        "- These columns are ``Rented Bike Count``, ``Wind Speed``, ``Solar Radiation``, ``Rainfall`` & ``Snowfall``.\n",
        "- The columns like ``Temperature``, ``Humidity``, ``Visibility`` & ``Dew point temperature`` do not contain any outliers."
      ],
      "metadata": {
        "id": "uiJrOZ6Vu85x"
      }
    },
    {
      "cell_type": "markdown",
      "source": [
        "### **4.2.3 Univariate Analysis of Categorical Features**"
      ],
      "metadata": {
        "id": "QH3INnF3yJAO"
      }
    },
    {
      "cell_type": "code",
      "source": [
        "# figure\n",
        "plt.figure(figsize = (20,8))\n",
        "\n",
        "# title\n",
        "plt.suptitle('Univariate Analysis of Categorical Features', fontsize = 20, fontweight = 'bold', y = 1.02)\n",
        "\n",
        "for i, col in enumerate(categorical_features):\n",
        "  # subplots of \n",
        "  plt.subplot(3,3, i+1)\n",
        "\n",
        "  # Countplots\n",
        "  sns.countplot(x = categorical_features[col])\n",
        "  \n",
        "  plt.xticks(rotation ='vertical')\n",
        "  plt.title(col)\n",
        "  plt.tight_layout()\n"
      ],
      "metadata": {
        "id": "i72DWI3_SFgt"
      },
      "execution_count": null,
      "outputs": []
    },
    {
      "cell_type": "markdown",
      "source": [
        "**Observations:**\n",
        "- Every hour has an equal number of counts in the dataset.\n",
        "- Every season has almost equal number of counts.\n",
        "- Dataset has more records of No holiday than a holiday which is obvious as most of the days are working days.\n",
        "- Dataset has more records of Functioning Day than no functioning day which is obvious as most of the days are working days.\n",
        "- Except Friday, other Days have equal number of counts in the dataset.\n",
        "- Months like April, June, September, November & February have a slightly low number of count comparted to other months.\n",
        "- More data was colected in the year 2018 than 2017."
      ],
      "metadata": {
        "id": "kpwga4or7MDN"
      }
    },
    {
      "cell_type": "markdown",
      "source": [
        "## **4.3 Bivariate and Multivariate Analysis**"
      ],
      "metadata": {
        "id": "gIrxjtTWBu3s"
      }
    },
    {
      "cell_type": "markdown",
      "source": [
        "### **4.3.1 Analysis between target variable and numerical features**"
      ],
      "metadata": {
        "id": "GN7B65qoB3fe"
      }
    },
    {
      "cell_type": "code",
      "source": [
        "# Identify patterns and trends in numerical features\n",
        "\n",
        "plt.suptitle('Bivariate Analysis of Numerical features', fontsize=20, fontweight='bold', y=1.02)\n",
        "\n",
        "\n",
        "for i in numerical_features:\n",
        "  plt.figure(figsize=(15,6))\n",
        "  sns.lineplot(x= i, y='Rented Bike Count', data = numerical_features, palette='Grouped')\n",
        "  plt.title(f\"Bike Demand over {i}\");\n",
        "  print('\\n')\n",
        "  plt.xticks(rotation = 45)\n"
      ],
      "metadata": {
        "id": "JO5dOkuxWX3N"
      },
      "execution_count": null,
      "outputs": []
    },
    {
      "cell_type": "code",
      "source": [
        "# Identify patterns and trends in numerical features\n",
        "\n",
        "# Extract relevant columns\n",
        "\n",
        "plt.figure(figsize = (15, 10))\n",
        "\n",
        "# title\n",
        "plt.suptitle('Bivariate Analysis of Numerical features', fontsize=20, fontweight='bold', y=1.02)\n",
        "\n",
        "for index, col in enumerate(numerical_features):\n",
        "\n",
        "  # subplots of 3 rows and 3 columns\n",
        "  plt.subplot(3,3, index+1)\n",
        "\n",
        "  # line plots\n",
        "  sns.scatterplot(x = numerical_features[col], y = numerical_features['Rented Bike Count'])\n",
        "\n",
        "  plt.title(f'Bike Damand Over {col}')\n",
        "  plt.xticks(rotation = 45)\n",
        "  plt.tight_layout()\n",
        "\n",
        "\n"
      ],
      "metadata": {
        "id": "yD4LU_vv_9Lw"
      },
      "execution_count": null,
      "outputs": []
    },
    {
      "cell_type": "markdown",
      "source": [
        "### **4.3.2 Bivariate Analysis of Categorical Features**"
      ],
      "metadata": {
        "id": "h0v94LTjJRQ-"
      }
    },
    {
      "cell_type": "code",
      "source": [
        "# Counting number of category present in each feature with respect to target feature  \n",
        "\n",
        "# figsize\n",
        "plt.figure(figsize=(15,10))\n",
        "# title\n",
        "plt.suptitle('Bivariate Analysis of Categorical Features', fontsize=20, fontweight='bold', y=1.02)\n",
        "\n",
        "for i,col in enumerate(categorical_features):      \n",
        "   # subplots of 3 rows and 3 columns\n",
        "  plt.subplot(3, 3, i+1)                                \n",
        "  a = bike_sharing_df.groupby(col)[['Rented Bike Count']].mean().reset_index()\n",
        "\n",
        "  # barplot\n",
        "  sns.barplot(x=a[col], y=a['Rented Bike Count'])\n",
        "  # x-axis label\n",
        "  plt.title(f'Average bike rentals across {col}')\n",
        "  plt.xticks(rotation = 'vertical')\n",
        "  plt.tight_layout()"
      ],
      "metadata": {
        "id": "w_SRg4IfNbVn"
      },
      "execution_count": null,
      "outputs": []
    },
    {
      "cell_type": "markdown",
      "source": [
        "**Observations**:\n",
        "- **Hours:** The highest demand is in hours from say 7-10 and from 15-19. This could be the reason that in most of the metroploitan cities this is the peak office time and so more people would be renting bikes.import itertools\n",
        "- **Seasons:** Summer season had the higest Bike Rent Count. People are more likely to rent bikes in summer. Bike rentals in winter is very less compared to other seasons.\n",
        "- **Holidays:** High number of bikes were rented on No Holidays.*\n",
        "- **Functioning Day:** On 'No Functioning Day, only 295 bikes were rented. Hence, this column does not add value to our prediction, we can drop this column in the next steps.*\n",
        "- **Day:** Most of the bikes were rented on Weekdays compared to weekends.*\n",
        "- **Month:** From March Bike Rent Count started increasing and it was highest in June.*"
      ],
      "metadata": {
        "id": "IdFBRiOCmHLl"
      }
    },
    {
      "cell_type": "code",
      "source": [
        "# Multivariate Analysis\n",
        "\n",
        "# Analysing bike demand with respect to hour and different third value\n",
        "\n",
        "for i in categorical_features:\n",
        "  if i == 'Hour':\n",
        "    pass\n",
        "  else:\n",
        "    plt.figure(figsize=(15,8))\n",
        "    sns.lineplot(x= bike_sharing_df[\"Hour\"], y= bike_sharing_df['Rented Bike Count'], hue= bike_sharing_df[i], marker ='o')\n",
        "    plt.title(f\"Bike Demand over Hour wrt to {i}\")\n",
        "  plt.show()"
      ],
      "metadata": {
        "id": "rwjsX1CGXUrW"
      },
      "execution_count": null,
      "outputs": []
    },
    {
      "cell_type": "code",
      "source": [
        "#Bar plot for seasonwise monthly distribution of Rented_Bike_Count\n",
        "fig,ax=plt.subplots(figsize=(15,8))\n",
        "sns.barplot(x='Month',y='Rented Bike Count',data= bike_sharing_df, hue='Seasons',ax=ax);\n",
        "ax.set_title('Season-wise monthly Rented Bike Count');\n",
        "plt.show();"
      ],
      "metadata": {
        "id": "ldpNWgR_d7ms"
      },
      "execution_count": null,
      "outputs": []
    },
    {
      "cell_type": "markdown",
      "source": [
        "**Observations:**\n",
        "- The above regression plots for the numerical features indicate that the columns ``Temperature``, ``Wind_speed``, ``Visibility``, ``Dew_point_temperature`` & ``Solar_Radiation`` are positively correlated with the target variable, ie , with an increase in these features results in an increase in rented bike count.\n",
        "- On the other hand, ``Rainfall``, ``Snowfall`` & ``Humidity`` are negatively correlated with the target variable, indicating that with an increase in these features results in a decrease in rented bike count."
      ],
      "metadata": {
        "id": "NVBUpljMIKP8"
      }
    },
    {
      "cell_type": "markdown",
      "source": [
        "# **5. Data Cleaning**"
      ],
      "metadata": {
        "id": "Jh33RSOH01Hr"
      }
    },
    {
      "cell_type": "markdown",
      "source": [
        "**What is data cleaning?**\n",
        "Data cleaning, also known as data cleansing or data scrubbing, refers to the process of identifying and correcting or removing errors, inconsistencies, and inaccuracies in a dataset. It involves handling missing data, removing duplicates, addressing outliers, standardizing formats, resolving inconsistencies, and validating data. Data cleaning ensures that the data is accurate, complete, and reliable for analysis or machine learning purposes."
      ],
      "metadata": {
        "id": "4mmVrmyIt_SQ"
      }
    },
    {
      "cell_type": "markdown",
      "source": [
        "## **5.1 Handling Missing Values**"
      ],
      "metadata": {
        "id": "ya3j49rvKPpN"
      }
    },
    {
      "cell_type": "code",
      "source": [
        "# Checking for missing values\n",
        "bike_sharing_df.isnull().sum()"
      ],
      "metadata": {
        "id": "1UjJoym3Lgi_"
      },
      "execution_count": null,
      "outputs": []
    },
    {
      "cell_type": "markdown",
      "source": [
        "**As we can see there are no null values present in our dataset and therefore we are good to go.**"
      ],
      "metadata": {
        "id": "sja2kH_FL_5H"
      }
    },
    {
      "cell_type": "markdown",
      "source": [
        "## **5.2 Handling duplicate values**"
      ],
      "metadata": {
        "id": "5yaKasKuMn8g"
      }
    },
    {
      "cell_type": "code",
      "source": [
        "# Checking for duplicate values\n",
        "bike_sharing_df.duplicated().sum()"
      ],
      "metadata": {
        "id": "Ddjy76Q3L-t1"
      },
      "execution_count": null,
      "outputs": []
    },
    {
      "cell_type": "markdown",
      "source": [
        "**As we can see there are no duplicate values, so we can move ahead.**"
      ],
      "metadata": {
        "id": "-gq5YzdPM4_N"
      }
    },
    {
      "cell_type": "markdown",
      "source": [
        "## **5.3 Handling Outliers**"
      ],
      "metadata": {
        "id": "id1riN9m0vUs"
      }
    },
    {
      "cell_type": "markdown",
      "source": [
        "**Outliers are data points that deviate significantly from the majority of the data and can have a disproportionate impact on statistical analysis or modeling.**"
      ],
      "metadata": {
        "id": "D9rTqAqe8C_k"
      }
    },
    {
      "cell_type": "code",
      "source": [
        "#Creating a boxplot to detect columns with outliers\n",
        "# figsize\n",
        "plt.figure(figsize = (15,10))\n",
        "\n",
        "# title\n",
        "plt.suptitle('Outlier Analysis of Numeric features', fontsize = 20, fontweight='bold', y=1.02)\n",
        "\n",
        "for index , col in enumerate(numerical_features):\n",
        "  # subplots 3 rows, 3 columns\n",
        "  plt.subplot(3,3, index+1)\n",
        "\n",
        "  # boxplots\n",
        "  sns.boxplot(numerical_features[col])\n",
        "  \n",
        "  plt.title(col)\n",
        "  plt.tight_layout()"
      ],
      "metadata": {
        "id": "LFYMnpKBL-q2"
      },
      "execution_count": null,
      "outputs": []
    },
    {
      "cell_type": "markdown",
      "source": [
        "**Here we can see that the columns that contain outliers are ``Windspeed``, ``Solar Radiation``, ``Rainfall`` & ``Snowfall``**"
      ],
      "metadata": {
        "id": "p17-SQdgP3Tj"
      }
    },
    {
      "cell_type": "code",
      "source": [
        "#Creating a list of columns that contains outliers\n",
        "outlier_cols = ['Rented Bike Count', 'Wind Speed', 'Solar Radiation', 'Rainfall','Snowfall']\n",
        "outlier_cols"
      ],
      "metadata": {
        "id": "Qv6RNuAVf-Vt"
      },
      "execution_count": null,
      "outputs": []
    },
    {
      "cell_type": "code",
      "source": [
        "def calculate_ranges(data, column):\n",
        "\n",
        "  # Skip categorical columns\n",
        "  if data[column].dtype == 'object':\n",
        "    return None, None  \n",
        "  else:\n",
        "    # Calculate quartiles\n",
        "    Q1 = data[column].quantile(0.25)\n",
        "    Q3 = data[column].quantile(0.75)\n",
        "    \n",
        "    # Calculate IQR\n",
        "    IQR = Q3 - Q1\n",
        "    \n",
        "    # Calculate upper and lower ranges\n",
        "    upper_range = Q3 + 1.5 * IQR\n",
        "    lower_range = Q1 - 1.5 * IQR\n",
        "    \n",
        "    return upper_range, lower_range"
      ],
      "metadata": {
        "id": "u8nUZJWmToVE"
      },
      "execution_count": null,
      "outputs": []
    },
    {
      "cell_type": "code",
      "source": [
        "calculate_ranges(numerical_features, 'Rented Bike Count')"
      ],
      "metadata": {
        "id": "ONydWAROUrDO"
      },
      "execution_count": null,
      "outputs": []
    },
    {
      "cell_type": "code",
      "source": [
        "# Identify potential outliers\n",
        "plt.figure(figsize = (15,10))\n",
        "\n",
        "for index, col in enumerate(outlier_cols):\n",
        "\n",
        "  # Apply calculate_ranges function to get upper bound and lower bound\n",
        "  upper_bound, lower_bound = calculate_ranges(bike_sharing_df, col)\n",
        "\n",
        "  # Identify potential outliers\n",
        "  outliers = bike_sharing_df[(bike_sharing_df[col] > upper_bound) | (bike_sharing_df[col] < lower_bound)]\n",
        "\n",
        "# Visualize the potential outliers\n",
        "  #plt.figure(figsize=(8, 6))\n",
        "  \n",
        "  # subplots 3 rows, 3 columns\n",
        "  plt.subplot(3,3, index+1)\n",
        "  plt.hist(bike_sharing_df[col], bins=30, color='lightblue', edgecolor='black', label='Data')\n",
        "  plt.hist(outliers[col], bins=10, color='red', edgecolor='black', label='Potential Outliers')\n",
        "  plt.xlabel(col)\n",
        "  plt.ylabel('Frequency')\n",
        "  \n",
        "  plt.suptitle('Distribution of Numerical features with Potential Outliers', fontsize = 20, fontweight='bold', y=1.02)\n",
        "  plt.legend()\n",
        "  plt.tight_layout()\n",
        "  #plt.show()"
      ],
      "metadata": {
        "id": "kqUqKhY8VMAx"
      },
      "execution_count": null,
      "outputs": []
    },
    {
      "cell_type": "code",
      "source": [
        "# Create a function to count the total number of outliers in each column\n",
        "\n",
        "def count_outliers(data):\n",
        "    # Initialize a variable to store the total number of outliers\n",
        "    outlier_count = {}\n",
        "\n",
        "    # Loop through each column in the list containing outliers\n",
        "    for col in outlier_cols:\n",
        "\n",
        "        # Calculate the upper and lower ranges\n",
        "        upper_range, lower_range = calculate_ranges(data, col)\n",
        "\n",
        "        # Count the number of outliers in the column\n",
        "        outlier_count[col] = len(data[(data[col] > upper_range) | (data[col] < lower_range)])\n",
        "\n",
        "    return outlier_count"
      ],
      "metadata": {
        "id": "S3J1vnu8Wpe9"
      },
      "execution_count": null,
      "outputs": []
    },
    {
      "cell_type": "code",
      "source": [
        "# Number of outliers in each column\n",
        "count_outliers(bike_sharing_df)"
      ],
      "metadata": {
        "id": "arkAkzWJXnLC"
      },
      "execution_count": null,
      "outputs": []
    },
    {
      "cell_type": "code",
      "source": [
        "# checking the boxplot after outlier treatment\n",
        "\n",
        "# figsize\n",
        "plt.figure(figsize=(15,5))\n",
        "# boxplot of numerical features\n",
        "sns.boxplot(data = bike_sharing_df[numeric_features])\n",
        "plt.show() "
      ],
      "metadata": {
        "id": "84sEVJ-EL-hO"
      },
      "execution_count": null,
      "outputs": []
    },
    {
      "cell_type": "code",
      "source": [
        "# checking for distribution after treating outliers\n",
        "for col in numerical_features:\n",
        "  fig, ax = plt.subplots(1, 2, figsize = (15, 3))\n",
        "  sns.distplot(bike_sharing_df[col], ax = ax[0].set(title = 'Distribution'))\n",
        "  sns.boxplot(bike_sharing_df[col], ax = ax[1].set(title = 'Outlier'))\n",
        "  plt.suptitle(f'{col.title()}' ,fontsize = 12, fontweight='bold', y = 1.02)\n",
        "  plt.tight_layout()"
      ],
      "metadata": {
        "id": "T424mrDgL-c7"
      },
      "execution_count": null,
      "outputs": []
    },
    {
      "cell_type": "markdown",
      "source": [
        "**We can also observe some shifts in the distribution of the data after treating outliers. Some of the data were skewed before handling outliers, but after doing so, the features almost follow the normal distribution. Therefore, we are not utilizing the numerical feature transformation technique.**"
      ],
      "metadata": {
        "id": "-t1C9u8jcbrM"
      }
    },
    {
      "cell_type": "code",
      "source": [
        "# Regression plot to know relation with our independent variable ie 'Rented Bike Count'\n",
        "\n",
        "# figsize\n",
        "plt.figure(figsize=(15, 10))\n",
        "\n",
        "# title\n",
        "plt.suptitle('Bivariate Analysis of Numerical features', fontsize=20, fontweight='bold', y=1.02)\n",
        "\n",
        "for i, col in enumerate(numerical_features):\n",
        "\n",
        "  # subplots of 3 rows and 3 columns\n",
        "  plt.subplot(3, 3, i+1) \n",
        "\n",
        "  # regression plots\n",
        "  sns.regplot(x= numerical_features[col], y = numerical_features['Rented Bike Count'], scatter_kws={\"color\": \"blue\"}, line_kws={\"color\": \"red\"})\n",
        "    \n",
        "  plt.title(f'Dependend variable and {col}')\n",
        "  plt.tight_layout()\n",
        "     "
      ],
      "metadata": {
        "id": "knvJncDNSFUN"
      },
      "execution_count": null,
      "outputs": []
    },
    {
      "cell_type": "markdown",
      "source": [
        "# **6. Feature Engineering**"
      ],
      "metadata": {
        "id": "yLjJCtPM0KBk"
      }
    },
    {
      "cell_type": "markdown",
      "source": [
        "### 3. Categorical Encoding"
      ],
      "metadata": {
        "id": "89xtkJwZ18nB"
      }
    },
    {
      "cell_type": "code",
      "source": [
        "# Encode your categorical columns"
      ],
      "metadata": {
        "id": "21JmIYMG2hEo"
      },
      "execution_count": null,
      "outputs": []
    },
    {
      "cell_type": "markdown",
      "source": [
        "#### What all categorical encoding techniques have you used & why did you use those techniques?"
      ],
      "metadata": {
        "id": "67NQN5KX2AMe"
      }
    },
    {
      "cell_type": "markdown",
      "source": [
        "Answer Here."
      ],
      "metadata": {
        "id": "UDaue5h32n_G"
      }
    },
    {
      "cell_type": "markdown",
      "source": [
        "### 4. Textual Data Preprocessing \n",
        "(It's mandatory for textual dataset i.e., NLP, Sentiment Analysis, Text Clustering etc.)"
      ],
      "metadata": {
        "id": "Iwf50b-R2tYG"
      }
    },
    {
      "cell_type": "markdown",
      "source": [
        "#### 1. Expand Contraction"
      ],
      "metadata": {
        "id": "GMQiZwjn3iu7"
      }
    },
    {
      "cell_type": "code",
      "source": [
        "# Expand Contraction"
      ],
      "metadata": {
        "id": "PTouz10C3oNN"
      },
      "execution_count": null,
      "outputs": []
    },
    {
      "cell_type": "markdown",
      "source": [
        "#### 2. Lower Casing"
      ],
      "metadata": {
        "id": "WVIkgGqN3qsr"
      }
    },
    {
      "cell_type": "code",
      "source": [
        "# Lower Casing"
      ],
      "metadata": {
        "id": "88JnJ1jN3w7j"
      },
      "execution_count": null,
      "outputs": []
    },
    {
      "cell_type": "markdown",
      "source": [
        "#### 3. Removing Punctuations"
      ],
      "metadata": {
        "id": "XkPnILGE3zoT"
      }
    },
    {
      "cell_type": "code",
      "source": [
        "# Remove Punctuations"
      ],
      "metadata": {
        "id": "vqbBqNaA33c0"
      },
      "execution_count": null,
      "outputs": []
    },
    {
      "cell_type": "markdown",
      "source": [
        "#### 4. Removing URLs & Removing words and digits contain digits."
      ],
      "metadata": {
        "id": "Hlsf0x5436Go"
      }
    },
    {
      "cell_type": "code",
      "source": [
        "# Remove URLs & Remove words and digits contain digits"
      ],
      "metadata": {
        "id": "2sxKgKxu4Ip3"
      },
      "execution_count": null,
      "outputs": []
    },
    {
      "cell_type": "markdown",
      "source": [
        "#### 5. Removing Stopwords & Removing White spaces"
      ],
      "metadata": {
        "id": "mT9DMSJo4nBL"
      }
    },
    {
      "cell_type": "code",
      "source": [
        "# Remove Stopwords"
      ],
      "metadata": {
        "id": "T2LSJh154s8W"
      },
      "execution_count": null,
      "outputs": []
    },
    {
      "cell_type": "code",
      "source": [
        "# Remove White spaces"
      ],
      "metadata": {
        "id": "EgLJGffy4vm0"
      },
      "execution_count": null,
      "outputs": []
    },
    {
      "cell_type": "markdown",
      "source": [
        "#### 6. Rephrase Text"
      ],
      "metadata": {
        "id": "c49ITxTc407N"
      }
    },
    {
      "cell_type": "code",
      "source": [
        "# Rephrase Text"
      ],
      "metadata": {
        "id": "foqY80Qu48N2"
      },
      "execution_count": null,
      "outputs": []
    },
    {
      "cell_type": "markdown",
      "source": [
        "#### 7. Tokenization"
      ],
      "metadata": {
        "id": "OeJFEK0N496M"
      }
    },
    {
      "cell_type": "code",
      "source": [
        "# Tokenization"
      ],
      "metadata": {
        "id": "ijx1rUOS5CUU"
      },
      "execution_count": null,
      "outputs": []
    },
    {
      "cell_type": "markdown",
      "source": [
        "#### 8. Text Normalization"
      ],
      "metadata": {
        "id": "9ExmJH0g5HBk"
      }
    },
    {
      "cell_type": "code",
      "source": [
        "# Normalizing Text (i.e., Stemming, Lemmatization etc.)"
      ],
      "metadata": {
        "id": "AIJ1a-Zc5PY8"
      },
      "execution_count": null,
      "outputs": []
    },
    {
      "cell_type": "markdown",
      "source": [
        "##### Which text normalization technique have you used and why?"
      ],
      "metadata": {
        "id": "cJNqERVU536h"
      }
    },
    {
      "cell_type": "markdown",
      "source": [
        "Answer Here."
      ],
      "metadata": {
        "id": "Z9jKVxE06BC1"
      }
    },
    {
      "cell_type": "markdown",
      "source": [
        "#### 9. Part of speech tagging"
      ],
      "metadata": {
        "id": "k5UmGsbsOxih"
      }
    },
    {
      "cell_type": "code",
      "source": [
        "# POS Taging"
      ],
      "metadata": {
        "id": "btT3ZJBAO6Ik"
      },
      "execution_count": null,
      "outputs": []
    },
    {
      "cell_type": "markdown",
      "source": [
        "#### 10. Text Vectorization"
      ],
      "metadata": {
        "id": "T0VqWOYE6DLQ"
      }
    },
    {
      "cell_type": "code",
      "source": [
        "# Vectorizing Text"
      ],
      "metadata": {
        "id": "yBRtdhth6JDE"
      },
      "execution_count": null,
      "outputs": []
    },
    {
      "cell_type": "markdown",
      "source": [
        "##### Which text vectorization technique have you used and why?"
      ],
      "metadata": {
        "id": "qBMux9mC6MCf"
      }
    },
    {
      "cell_type": "markdown",
      "source": [
        "Answer Here."
      ],
      "metadata": {
        "id": "su2EnbCh6UKQ"
      }
    },
    {
      "cell_type": "markdown",
      "source": [
        "### 4. Feature Manipulation & Selection"
      ],
      "metadata": {
        "id": "-oLEiFgy-5Pf"
      }
    },
    {
      "cell_type": "markdown",
      "source": [
        "#### 1. Feature Manipulation"
      ],
      "metadata": {
        "id": "C74aWNz2AliB"
      }
    },
    {
      "cell_type": "code",
      "source": [
        "# Manipulate Features to minimize feature correlation and create new features"
      ],
      "metadata": {
        "id": "h1qC4yhBApWC"
      },
      "execution_count": null,
      "outputs": []
    },
    {
      "cell_type": "markdown",
      "source": [
        "#### 2. Feature Selection"
      ],
      "metadata": {
        "id": "2DejudWSA-a0"
      }
    },
    {
      "cell_type": "code",
      "source": [
        "# Select your features wisely to avoid overfitting"
      ],
      "metadata": {
        "id": "YLhe8UmaBCEE"
      },
      "execution_count": null,
      "outputs": []
    },
    {
      "cell_type": "markdown",
      "source": [
        "##### What all feature selection methods have you used  and why?"
      ],
      "metadata": {
        "id": "pEMng2IbBLp7"
      }
    },
    {
      "cell_type": "markdown",
      "source": [
        "Answer Here."
      ],
      "metadata": {
        "id": "rb2Lh6Z8BgGs"
      }
    },
    {
      "cell_type": "markdown",
      "source": [
        "##### Which all features you found important and why?"
      ],
      "metadata": {
        "id": "rAdphbQ9Bhjc"
      }
    },
    {
      "cell_type": "markdown",
      "source": [
        "Answer Here."
      ],
      "metadata": {
        "id": "fGgaEstsBnaf"
      }
    },
    {
      "cell_type": "markdown",
      "source": [
        "### 5. Data Transformation"
      ],
      "metadata": {
        "id": "TNVZ9zx19K6k"
      }
    },
    {
      "cell_type": "markdown",
      "source": [
        "#### Do you think that your data needs to be transformed? If yes, which transformation have you used. Explain Why?"
      ],
      "metadata": {
        "id": "nqoHp30x9hH9"
      }
    },
    {
      "cell_type": "code",
      "source": [
        "# Transform Your data"
      ],
      "metadata": {
        "id": "I6quWQ1T9rtH"
      },
      "execution_count": null,
      "outputs": []
    },
    {
      "cell_type": "markdown",
      "source": [
        "### 6. Data Scaling"
      ],
      "metadata": {
        "id": "rMDnDkt2B6du"
      }
    },
    {
      "cell_type": "code",
      "source": [
        "# Scaling your data"
      ],
      "metadata": {
        "id": "dL9LWpySC6x_"
      },
      "execution_count": null,
      "outputs": []
    },
    {
      "cell_type": "markdown",
      "source": [
        "##### Which method have you used to scale you data and why?"
      ],
      "metadata": {
        "id": "yiiVWRdJDDil"
      }
    },
    {
      "cell_type": "markdown",
      "source": [
        "### 7. Dimesionality Reduction"
      ],
      "metadata": {
        "id": "1UUpS68QDMuG"
      }
    },
    {
      "cell_type": "markdown",
      "source": [
        "##### Do you think that dimensionality reduction is needed? Explain Why?"
      ],
      "metadata": {
        "id": "kexQrXU-DjzY"
      }
    },
    {
      "cell_type": "markdown",
      "source": [
        "Answer Here."
      ],
      "metadata": {
        "id": "GGRlBsSGDtTQ"
      }
    },
    {
      "cell_type": "code",
      "source": [
        "# DImensionality Reduction (If needed)"
      ],
      "metadata": {
        "id": "kQfvxBBHDvCa"
      },
      "execution_count": null,
      "outputs": []
    },
    {
      "cell_type": "markdown",
      "source": [
        "##### Which dimensionality reduction technique have you used and why? (If dimensionality reduction done on dataset.)"
      ],
      "metadata": {
        "id": "T5CmagL3EC8N"
      }
    },
    {
      "cell_type": "markdown",
      "source": [
        "Answer Here."
      ],
      "metadata": {
        "id": "ZKr75IDuEM7t"
      }
    },
    {
      "cell_type": "markdown",
      "source": [
        "### 8. Data Splitting"
      ],
      "metadata": {
        "id": "BhH2vgX9EjGr"
      }
    },
    {
      "cell_type": "code",
      "source": [
        "# Split your data to train and test. Choose Splitting ratio wisely."
      ],
      "metadata": {
        "id": "0CTyd2UwEyNM"
      },
      "execution_count": null,
      "outputs": []
    },
    {
      "cell_type": "markdown",
      "source": [
        "##### What data splitting ratio have you used and why? "
      ],
      "metadata": {
        "id": "qjKvONjwE8ra"
      }
    },
    {
      "cell_type": "markdown",
      "source": [
        "Answer Here."
      ],
      "metadata": {
        "id": "Y2lJ8cobFDb_"
      }
    },
    {
      "cell_type": "markdown",
      "source": [
        "### 9. Handling Imbalanced Dataset"
      ],
      "metadata": {
        "id": "P1XJ9OREExlT"
      }
    },
    {
      "cell_type": "markdown",
      "source": [
        "##### Do you think the dataset is imbalanced? Explain Why."
      ],
      "metadata": {
        "id": "VFOzZv6IFROw"
      }
    },
    {
      "cell_type": "markdown",
      "source": [
        "Answer Here."
      ],
      "metadata": {
        "id": "GeKDIv7pFgcC"
      }
    },
    {
      "cell_type": "code",
      "source": [
        "# Handling Imbalanced Dataset (If needed)"
      ],
      "metadata": {
        "id": "nQsRhhZLFiDs"
      },
      "execution_count": null,
      "outputs": []
    },
    {
      "cell_type": "markdown",
      "source": [
        "##### What technique did you use to handle the imbalance dataset and why? (If needed to be balanced)"
      ],
      "metadata": {
        "id": "TIqpNgepFxVj"
      }
    },
    {
      "cell_type": "markdown",
      "source": [
        "Answer Here."
      ],
      "metadata": {
        "id": "qbet1HwdGDTz"
      }
    },
    {
      "cell_type": "markdown",
      "source": [
        "## ***7. ML Model Implementation***"
      ],
      "metadata": {
        "id": "VfCC591jGiD4"
      }
    },
    {
      "cell_type": "markdown",
      "source": [
        "### ML Model - 1"
      ],
      "metadata": {
        "id": "OB4l2ZhMeS1U"
      }
    },
    {
      "cell_type": "code",
      "source": [
        "# ML Model - 1 Implementation\n",
        "\n",
        "# Fit the Algorithm\n",
        "\n",
        "# Predict on the model"
      ],
      "metadata": {
        "id": "7ebyywQieS1U"
      },
      "execution_count": null,
      "outputs": []
    },
    {
      "cell_type": "markdown",
      "source": [
        "#### 1. Explain the ML Model used and it's performance using Evaluation metric Score Chart."
      ],
      "metadata": {
        "id": "ArJBuiUVfxKd"
      }
    },
    {
      "cell_type": "code",
      "source": [
        "# Visualizing evaluation Metric Score chart"
      ],
      "metadata": {
        "id": "rqD5ZohzfxKe"
      },
      "execution_count": null,
      "outputs": []
    },
    {
      "cell_type": "markdown",
      "source": [
        "#### 2. Cross- Validation & Hyperparameter Tuning"
      ],
      "metadata": {
        "id": "4qY1EAkEfxKe"
      }
    },
    {
      "cell_type": "code",
      "source": [
        "# ML Model - 1 Implementation with hyperparameter optimization techniques (i.e., GridSearch CV, RandomSearch CV, Bayesian Optimization etc.)\n",
        "\n",
        "# Fit the Algorithm\n",
        "\n",
        "# Predict on the model"
      ],
      "metadata": {
        "id": "Dy61ujd6fxKe"
      },
      "execution_count": null,
      "outputs": []
    },
    {
      "cell_type": "markdown",
      "source": [
        "##### Which hyperparameter optimization technique have you used and why?"
      ],
      "metadata": {
        "id": "PiV4Ypx8fxKe"
      }
    },
    {
      "cell_type": "markdown",
      "source": [
        "Answer Here."
      ],
      "metadata": {
        "id": "negyGRa7fxKf"
      }
    },
    {
      "cell_type": "markdown",
      "source": [
        "##### Have you seen any improvement? Note down the improvement with updates Evaluation metric Score Chart."
      ],
      "metadata": {
        "id": "TfvqoZmBfxKf"
      }
    },
    {
      "cell_type": "markdown",
      "source": [
        "Answer Here."
      ],
      "metadata": {
        "id": "OaLui8CcfxKf"
      }
    },
    {
      "cell_type": "markdown",
      "source": [
        "### ML Model - 2"
      ],
      "metadata": {
        "id": "dJ2tPlVmpsJ0"
      }
    },
    {
      "cell_type": "markdown",
      "source": [
        "#### 1. Explain the ML Model used and it's performance using Evaluation metric Score Chart."
      ],
      "metadata": {
        "id": "JWYfwnehpsJ1"
      }
    },
    {
      "cell_type": "code",
      "source": [
        "# Visualizing evaluation Metric Score chart"
      ],
      "metadata": {
        "id": "yEl-hgQWpsJ1"
      },
      "execution_count": null,
      "outputs": []
    },
    {
      "cell_type": "markdown",
      "source": [
        "#### 2. Cross- Validation & Hyperparameter Tuning"
      ],
      "metadata": {
        "id": "-jK_YjpMpsJ2"
      }
    },
    {
      "cell_type": "code",
      "source": [
        "# ML Model - 1 Implementation with hyperparameter optimization techniques (i.e., GridSearch CV, RandomSearch CV, Bayesian Optimization etc.)\n",
        "\n",
        "# Fit the Algorithm\n",
        "\n",
        "# Predict on the model"
      ],
      "metadata": {
        "id": "Dn0EOfS6psJ2"
      },
      "execution_count": null,
      "outputs": []
    },
    {
      "cell_type": "markdown",
      "source": [
        "##### Which hyperparameter optimization technique have you used and why?"
      ],
      "metadata": {
        "id": "HAih1iBOpsJ2"
      }
    },
    {
      "cell_type": "markdown",
      "source": [
        "Answer Here."
      ],
      "metadata": {
        "id": "9kBgjYcdpsJ2"
      }
    },
    {
      "cell_type": "markdown",
      "source": [
        "##### Have you seen any improvement? Note down the improvement with updates Evaluation metric Score Chart."
      ],
      "metadata": {
        "id": "zVGeBEFhpsJ2"
      }
    },
    {
      "cell_type": "markdown",
      "source": [
        "Answer Here."
      ],
      "metadata": {
        "id": "74yRdG6UpsJ3"
      }
    },
    {
      "cell_type": "markdown",
      "source": [
        "#### 3. Explain each evaluation metric's indication towards business and the business impact pf the ML model used."
      ],
      "metadata": {
        "id": "bmKjuQ-FpsJ3"
      }
    },
    {
      "cell_type": "markdown",
      "source": [
        "Answer Here."
      ],
      "metadata": {
        "id": "BDKtOrBQpsJ3"
      }
    },
    {
      "cell_type": "markdown",
      "source": [
        "### ML Model - 3"
      ],
      "metadata": {
        "id": "Fze-IPXLpx6K"
      }
    },
    {
      "cell_type": "code",
      "source": [
        "# ML Model - 3 Implementation\n",
        "\n",
        "# Fit the Algorithm\n",
        "\n",
        "# Predict on the model"
      ],
      "metadata": {
        "id": "FFrSXAtrpx6M"
      },
      "execution_count": null,
      "outputs": []
    },
    {
      "cell_type": "markdown",
      "source": [
        "#### 1. Explain the ML Model used and it's performance using Evaluation metric Score Chart."
      ],
      "metadata": {
        "id": "7AN1z2sKpx6M"
      }
    },
    {
      "cell_type": "code",
      "source": [
        "# Visualizing evaluation Metric Score chart"
      ],
      "metadata": {
        "id": "xIY4lxxGpx6M"
      },
      "execution_count": null,
      "outputs": []
    },
    {
      "cell_type": "markdown",
      "source": [
        "#### 2. Cross- Validation & Hyperparameter Tuning"
      ],
      "metadata": {
        "id": "9PIHJqyupx6M"
      }
    },
    {
      "cell_type": "code",
      "source": [
        "# ML Model - 3 Implementation with hyperparameter optimization techniques (i.e., GridSearch CV, RandomSearch CV, Bayesian Optimization etc.)\n",
        "\n",
        "# Fit the Algorithm\n",
        "\n",
        "# Predict on the model"
      ],
      "metadata": {
        "id": "eSVXuaSKpx6M"
      },
      "execution_count": null,
      "outputs": []
    },
    {
      "cell_type": "markdown",
      "source": [
        "##### Which hyperparameter optimization technique have you used and why?"
      ],
      "metadata": {
        "id": "_-qAgymDpx6N"
      }
    },
    {
      "cell_type": "markdown",
      "source": [
        "Answer Here."
      ],
      "metadata": {
        "id": "lQMffxkwpx6N"
      }
    },
    {
      "cell_type": "markdown",
      "source": [
        "##### Have you seen any improvement? Note down the improvement with updates Evaluation metric Score Chart."
      ],
      "metadata": {
        "id": "Z-hykwinpx6N"
      }
    },
    {
      "cell_type": "markdown",
      "source": [
        "Answer Here."
      ],
      "metadata": {
        "id": "MzVzZC6opx6N"
      }
    },
    {
      "cell_type": "markdown",
      "source": [
        "### 1. Which Evaluation metrics did you consider for a positive business impact and why?"
      ],
      "metadata": {
        "id": "h_CCil-SKHpo"
      }
    },
    {
      "cell_type": "markdown",
      "source": [
        "Answer Here."
      ],
      "metadata": {
        "id": "jHVz9hHDKFms"
      }
    },
    {
      "cell_type": "markdown",
      "source": [
        "### 2. Which ML model did you choose from the above created models as your final prediction model and why?"
      ],
      "metadata": {
        "id": "cBFFvTBNJzUa"
      }
    },
    {
      "cell_type": "markdown",
      "source": [
        "Answer Here."
      ],
      "metadata": {
        "id": "6ksF5Q1LKTVm"
      }
    },
    {
      "cell_type": "markdown",
      "source": [
        "### 3. Explain the model which you have used and the feature importance using any model explainability tool?"
      ],
      "metadata": {
        "id": "HvGl1hHyA_VK"
      }
    },
    {
      "cell_type": "markdown",
      "source": [
        "Answer Here."
      ],
      "metadata": {
        "id": "YnvVTiIxBL-C"
      }
    },
    {
      "cell_type": "markdown",
      "source": [
        "## ***8.*** ***Future Work (Optional)***"
      ],
      "metadata": {
        "id": "EyNgTHvd2WFk"
      }
    },
    {
      "cell_type": "markdown",
      "source": [
        "### 1. Save the best performing ml model in a pickle file or joblib file format for deployment process.\n"
      ],
      "metadata": {
        "id": "KH5McJBi2d8v"
      }
    },
    {
      "cell_type": "code",
      "source": [
        "# Save the File"
      ],
      "metadata": {
        "id": "bQIANRl32f4J"
      },
      "execution_count": null,
      "outputs": []
    },
    {
      "cell_type": "markdown",
      "source": [
        "### 2. Again Load the saved model file and try to predict unseen data for a sanity check.\n"
      ],
      "metadata": {
        "id": "iW_Lq9qf2h6X"
      }
    },
    {
      "cell_type": "code",
      "source": [
        "# Load the File and predict unseen data."
      ],
      "metadata": {
        "id": "oEXk9ydD2nVC"
      },
      "execution_count": null,
      "outputs": []
    },
    {
      "cell_type": "markdown",
      "source": [
        "### ***Congrats! Your model is successfully created and ready for deployment on a live server for a real user interaction !!!***"
      ],
      "metadata": {
        "id": "-Kee-DAl2viO"
      }
    },
    {
      "cell_type": "markdown",
      "source": [
        "# **Conclusion**"
      ],
      "metadata": {
        "id": "gCX9965dhzqZ"
      }
    },
    {
      "cell_type": "markdown",
      "source": [
        "Write the conclusion here."
      ],
      "metadata": {
        "id": "Fjb1IsQkh3yE"
      }
    },
    {
      "cell_type": "markdown",
      "source": [
        "### ***Hurrah! You have successfully completed your Machine Learning Capstone Project !!!***"
      ],
      "metadata": {
        "id": "gIfDvo9L0UH2"
      }
    }
  ]
}